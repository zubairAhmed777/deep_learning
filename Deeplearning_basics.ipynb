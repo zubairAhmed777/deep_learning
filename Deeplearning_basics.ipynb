{
 "cells": [
  {
   "cell_type": "code",
   "execution_count": 1,
   "id": "6f24eff6-7960-445c-adc7-754154678a81",
   "metadata": {},
   "outputs": [
    {
     "name": "stdout",
     "output_type": "stream",
     "text": [
      "WARNING:tensorflow:From C:\\Users\\findz\\AppData\\Local\\Programs\\Python\\Python311\\Lib\\site-packages\\keras\\src\\losses.py:2976: The name tf.losses.sparse_softmax_cross_entropy is deprecated. Please use tf.compat.v1.losses.sparse_softmax_cross_entropy instead.\n",
      "\n"
     ]
    }
   ],
   "source": [
    "import tensorflow as tf"
   ]
  },
  {
   "cell_type": "code",
   "execution_count": 4,
   "id": "c590d40e-9d12-49d9-9d69-3ee573484c1a",
   "metadata": {},
   "outputs": [],
   "source": [
    "fashion_mnist = tf.keras.datasets.fashion_mnist.load_data()"
   ]
  },
  {
   "cell_type": "code",
   "execution_count": 6,
   "id": "90949ce3-3f18-4a8e-a7b0-489c2fae96ea",
   "metadata": {},
   "outputs": [],
   "source": [
    "(X_train_full, y_train_full) , (X_test, y_test) = fashion_mnist\n",
    "\n",
    "X_train, y_train = X_train_full[:-5000], y_train_full[:-5000]\n",
    "X_valid, y_valid = X_train_full[-5000:], y_train_full[-5000:]"
   ]
  },
  {
   "cell_type": "code",
   "execution_count": 12,
   "id": "03f63709-4378-47d1-8281-ce1fa25dc894",
   "metadata": {},
   "outputs": [
    {
     "data": {
      "text/plain": [
       "dtype('uint8')"
      ]
     },
     "execution_count": 12,
     "metadata": {},
     "output_type": "execute_result"
    }
   ],
   "source": [
    "X_train_full.dtype"
   ]
  },
  {
   "cell_type": "code",
   "execution_count": 31,
   "id": "747d0323-0b1e-44ee-98df-9d980a981d9e",
   "metadata": {},
   "outputs": [
    {
     "data": {
      "text/plain": [
       "array([9, 0, 0, ..., 9, 0, 2], dtype=uint8)"
      ]
     },
     "execution_count": 31,
     "metadata": {},
     "output_type": "execute_result"
    }
   ],
   "source": [
    "y_train"
   ]
  },
  {
   "cell_type": "code",
   "execution_count": 11,
   "id": "79bcc286-776b-4289-b586-ddc373023c32",
   "metadata": {},
   "outputs": [],
   "source": [
    "X_train, X_valid, X_test = X_train/255, X_valid/255, X_test/255"
   ]
  },
  {
   "cell_type": "code",
   "execution_count": 13,
   "id": "d7a48e5d-176b-4415-b1ab-9453ac22d7a4",
   "metadata": {},
   "outputs": [
    {
     "data": {
      "text/plain": [
       "dtype('float64')"
      ]
     },
     "execution_count": 13,
     "metadata": {},
     "output_type": "execute_result"
    }
   ],
   "source": [
    "X_train.dtype"
   ]
  },
  {
   "cell_type": "code",
   "execution_count": 14,
   "id": "688ba6cc-7e73-4caa-85a9-f5b86fd31737",
   "metadata": {},
   "outputs": [],
   "source": [
    "class_names = [\"T-shirt/top\", \"Trouser\", \"Pullover\", \"Dress\", \"Coat\", \"Sandal\", \"Shirt\", \"Sneaker\", \"Bag\", \"Ankle boot\"]"
   ]
  },
  {
   "cell_type": "markdown",
   "id": "076a11c3-e63c-4eb9-8689-bec48d85f075",
   "metadata": {},
   "source": [
    "### First, set TensorFlow’s random seed to make the results reproducible: the random weights of the hidden layers and the output layer will be the same every time you run the notebook. You could also choose to use the tf.keras.utils.set_random_seed() function, which conveniently sets the random seeds for TensorFlow, Python (random.seed()), and NumPy (np.random.seed())."
   ]
  },
  {
   "cell_type": "code",
   "execution_count": 15,
   "id": "c4c0ffbf-f1bd-4256-8e3e-cf606569cb83",
   "metadata": {},
   "outputs": [],
   "source": [
    "tf.random.set_seed(41)"
   ]
  },
  {
   "cell_type": "code",
   "execution_count": 16,
   "id": "54d4feb5-bc2a-4ebf-8454-4e75915fcb48",
   "metadata": {},
   "outputs": [
    {
     "name": "stdout",
     "output_type": "stream",
     "text": [
      "WARNING:tensorflow:From C:\\Users\\findz\\AppData\\Local\\Programs\\Python\\Python311\\Lib\\site-packages\\keras\\src\\backend.py:873: The name tf.get_default_graph is deprecated. Please use tf.compat.v1.get_default_graph instead.\n",
      "\n"
     ]
    }
   ],
   "source": [
    "model = tf.keras.Sequential()\n",
    "model.add(tf.keras.layers.Input(shape=[28, 28]))\n",
    "model.add(tf.keras.layers.Flatten())\n",
    "model.add(tf.keras.layers.Dense(128, activation='relu'))\n",
    "model.add(tf.keras.layers.Dense(64, activation='relu'))\n",
    "model.add(tf.keras.layers.Dense(10, activation='softmax'))"
   ]
  },
  {
   "cell_type": "code",
   "execution_count": 17,
   "id": "d09e6238-4d71-4f5b-bb34-61052af7d1a4",
   "metadata": {},
   "outputs": [
    {
     "name": "stdout",
     "output_type": "stream",
     "text": [
      "Model: \"sequential\"\n",
      "_________________________________________________________________\n",
      " Layer (type)                Output Shape              Param #   \n",
      "=================================================================\n",
      " flatten (Flatten)           (None, 784)               0         \n",
      "                                                                 \n",
      " dense (Dense)               (None, 128)               100480    \n",
      "                                                                 \n",
      " dense_1 (Dense)             (None, 64)                8256      \n",
      "                                                                 \n",
      " dense_2 (Dense)             (None, 10)                650       \n",
      "                                                                 \n",
      "=================================================================\n",
      "Total params: 109386 (427.29 KB)\n",
      "Trainable params: 109386 (427.29 KB)\n",
      "Non-trainable params: 0 (0.00 Byte)\n",
      "_________________________________________________________________\n"
     ]
    }
   ],
   "source": [
    "model.summary()"
   ]
  },
  {
   "cell_type": "code",
   "execution_count": 18,
   "id": "fda2793c-3227-48d6-99e8-86b2e2a11dec",
   "metadata": {},
   "outputs": [
    {
     "data": {
      "text/plain": [
       "[<keras.src.layers.reshaping.flatten.Flatten at 0x26a7dac93d0>,\n",
       " <keras.src.layers.core.dense.Dense at 0x26a7d8700d0>,\n",
       " <keras.src.layers.core.dense.Dense at 0x26a7df72190>,\n",
       " <keras.src.layers.core.dense.Dense at 0x26a7fc0cbd0>]"
      ]
     },
     "execution_count": 18,
     "metadata": {},
     "output_type": "execute_result"
    }
   ],
   "source": [
    "model.layers"
   ]
  },
  {
   "cell_type": "code",
   "execution_count": 19,
   "id": "5a41bb8d-569b-4756-ad81-250583ce4e8e",
   "metadata": {},
   "outputs": [],
   "source": [
    "input_layer =  model.layers[0]"
   ]
  },
  {
   "cell_type": "code",
   "execution_count": 20,
   "id": "f8bf2a4d-3700-4c6b-b1d6-234314db047f",
   "metadata": {},
   "outputs": [
    {
     "data": {
      "text/plain": [
       "'flatten'"
      ]
     },
     "execution_count": 20,
     "metadata": {},
     "output_type": "execute_result"
    }
   ],
   "source": [
    "input_layer.name"
   ]
  },
  {
   "cell_type": "code",
   "execution_count": 21,
   "id": "88a15286-9183-46c0-b8d4-4c7adc965347",
   "metadata": {},
   "outputs": [
    {
     "data": {
      "text/plain": [
       "'dense'"
      ]
     },
     "execution_count": 21,
     "metadata": {},
     "output_type": "execute_result"
    }
   ],
   "source": [
    "hidden1 = model.layers[1]\n",
    "hidden1.name"
   ]
  },
  {
   "cell_type": "code",
   "execution_count": 23,
   "id": "06696c4a-14bd-4879-867f-22c0531badd0",
   "metadata": {},
   "outputs": [
    {
     "data": {
      "text/plain": [
       "(784, 128)"
      ]
     },
     "execution_count": 23,
     "metadata": {},
     "output_type": "execute_result"
    }
   ],
   "source": [
    "weights, biases = model.layers[1].get_weights()\n",
    "weights.shape"
   ]
  },
  {
   "cell_type": "markdown",
   "id": "04357688-0278-4e39-8fb5-f159b1345053",
   "metadata": {},
   "source": [
    "### Notice that the Dense layer initialized the connection weights randomly (which is needed to break symmetry, as discussed earlier), and the biases were initialized to zeros, which is fine. If you want to use a different initialization method, you can set kernel_initializer (kernel is another name for the matrix of connection weights) or bias_initializer when creating the layer. We’ll discuss initializers further in Chapter 11, and the full list is at https://keras.io/api/layers/initializers."
   ]
  },
  {
   "cell_type": "code",
   "execution_count": 30,
   "id": "60ca3732-a05b-49c8-a271-3c17638fd703",
   "metadata": {},
   "outputs": [
    {
     "data": {
      "text/plain": [
       "array([0., 0., 0., 0., 0., 0., 0., 0., 0., 0., 0., 0., 0., 0., 0., 0., 0.,\n",
       "       0., 0., 0., 0., 0., 0., 0., 0., 0., 0., 0., 0., 0., 0., 0., 0., 0.,\n",
       "       0., 0., 0., 0., 0., 0., 0., 0., 0., 0., 0., 0., 0., 0., 0., 0., 0.,\n",
       "       0., 0., 0., 0., 0., 0., 0., 0., 0., 0., 0., 0., 0., 0., 0., 0., 0.,\n",
       "       0., 0., 0., 0., 0., 0., 0., 0., 0., 0., 0., 0., 0., 0., 0., 0., 0.,\n",
       "       0., 0., 0., 0., 0., 0., 0., 0., 0., 0., 0., 0., 0., 0., 0., 0., 0.,\n",
       "       0., 0., 0., 0., 0., 0., 0., 0., 0., 0., 0., 0., 0., 0., 0., 0., 0.,\n",
       "       0., 0., 0., 0., 0., 0., 0., 0., 0.], dtype=float32)"
      ]
     },
     "execution_count": 30,
     "metadata": {},
     "output_type": "execute_result"
    }
   ],
   "source": [
    "biases"
   ]
  },
  {
   "cell_type": "code",
   "execution_count": 29,
   "id": "2703e023-7df3-4a03-956c-6c6053235ebe",
   "metadata": {},
   "outputs": [
    {
     "data": {
      "text/plain": [
       "array([-0.0551507 ,  0.0364093 ,  0.0557347 ,  0.03426004, -0.02769509,\n",
       "       -0.04227511,  0.0278364 , -0.04445579,  0.01515105, -0.07410561,\n",
       "        0.07043415, -0.0265118 , -0.06861024, -0.02212292, -0.0785609 ,\n",
       "        0.07688569, -0.05032754,  0.05693572,  0.01820303,  0.03622933,\n",
       "        0.07425315,  0.00540339, -0.03546499, -0.04090339, -0.0260313 ,\n",
       "        0.07653388,  0.03058327, -0.01798005, -0.069149  , -0.06815404,\n",
       "       -0.03718014,  0.00824341,  0.01804892, -0.06531727,  0.02762944,\n",
       "        0.05257899, -0.04966006, -0.01954021, -0.0503987 ,  0.05956519,\n",
       "        0.04882415,  0.02874965, -0.01600275, -0.01921773,  0.07708459,\n",
       "       -0.0033037 ,  0.0702818 ,  0.01840672,  0.04798595, -0.00042012,\n",
       "       -0.02634273,  0.05399401, -0.01445433, -0.0288523 , -0.0627787 ,\n",
       "       -0.06674603,  0.05524515,  0.0798068 ,  0.0162872 ,  0.01778843,\n",
       "        0.06823722,  0.07433177,  0.0533487 , -0.01979319,  0.00674619,\n",
       "       -0.06700505,  0.04792484, -0.07879615, -0.07967573, -0.03110237,\n",
       "        0.01314803, -0.04452419,  0.07013271, -0.01651055,  0.01926344,\n",
       "       -0.00825565, -0.03251839,  0.04922754, -0.026216  , -0.01515119,\n",
       "        0.05736303,  0.07461881,  0.00751792,  0.05948672, -0.07542219,\n",
       "       -0.04211004, -0.07632552,  0.0352058 ,  0.07476606, -0.0514538 ,\n",
       "       -0.06817112,  0.04395493, -0.01386932, -0.05400883, -0.03047459,\n",
       "        0.0064178 , -0.07088353,  0.00033233, -0.0439373 ,  0.01598024,\n",
       "        0.05170644, -0.01748206, -0.06966995, -0.02362972, -0.01401854,\n",
       "        0.07005902,  0.05798415, -0.01780499,  0.02987282, -0.02749009,\n",
       "       -0.02269369, -0.0363107 , -0.0020212 , -0.05367159, -0.0367793 ,\n",
       "       -0.02489023, -0.04447448, -0.05361874,  0.0761782 ,  0.05728381,\n",
       "        0.0647886 , -0.07714785, -0.05130938,  0.02865098,  0.01036693,\n",
       "        0.01552051, -0.0461704 ,  0.06785021], dtype=float32)"
      ]
     },
     "execution_count": 29,
     "metadata": {},
     "output_type": "execute_result"
    }
   ],
   "source": [
    "weights[0]"
   ]
  },
  {
   "cell_type": "code",
   "execution_count": 32,
   "id": "cf373781-7ba5-4582-b72f-e9b875d4e007",
   "metadata": {},
   "outputs": [
    {
     "name": "stdout",
     "output_type": "stream",
     "text": [
      "WARNING:tensorflow:From C:\\Users\\findz\\AppData\\Local\\Programs\\Python\\Python311\\Lib\\site-packages\\keras\\src\\optimizers\\__init__.py:309: The name tf.train.Optimizer is deprecated. Please use tf.compat.v1.train.Optimizer instead.\n",
      "\n"
     ]
    }
   ],
   "source": [
    "model.compile(loss='sparse_categorical_crossentropy', optimizer='adam', metrics=['accuracy'])"
   ]
  },
  {
   "cell_type": "code",
   "execution_count": 33,
   "id": "79f739dc-c99e-4c22-bb57-5dc28c6d3ebd",
   "metadata": {},
   "outputs": [
    {
     "name": "stdout",
     "output_type": "stream",
     "text": [
      "Epoch 1/30\n",
      "WARNING:tensorflow:From C:\\Users\\findz\\AppData\\Local\\Programs\\Python\\Python311\\Lib\\site-packages\\keras\\src\\utils\\tf_utils.py:492: The name tf.ragged.RaggedTensorValue is deprecated. Please use tf.compat.v1.ragged.RaggedTensorValue instead.\n",
      "\n",
      "WARNING:tensorflow:From C:\\Users\\findz\\AppData\\Local\\Programs\\Python\\Python311\\Lib\\site-packages\\keras\\src\\engine\\base_layer_utils.py:384: The name tf.executing_eagerly_outside_functions is deprecated. Please use tf.compat.v1.executing_eagerly_outside_functions instead.\n",
      "\n",
      "1719/1719 [==============================] - 6s 3ms/step - loss: 0.5043 - accuracy: 0.8218 - val_loss: 0.4298 - val_accuracy: 0.8394\n",
      "Epoch 2/30\n",
      "1719/1719 [==============================] - 4s 3ms/step - loss: 0.3731 - accuracy: 0.8625 - val_loss: 0.3649 - val_accuracy: 0.8610\n",
      "Epoch 3/30\n",
      "1719/1719 [==============================] - 4s 2ms/step - loss: 0.3360 - accuracy: 0.8757 - val_loss: 0.3423 - val_accuracy: 0.8738\n",
      "Epoch 4/30\n",
      "1719/1719 [==============================] - 4s 2ms/step - loss: 0.3148 - accuracy: 0.8834 - val_loss: 0.3545 - val_accuracy: 0.8686\n",
      "Epoch 5/30\n",
      "1719/1719 [==============================] - 4s 2ms/step - loss: 0.2942 - accuracy: 0.8910 - val_loss: 0.3329 - val_accuracy: 0.8798\n",
      "Epoch 6/30\n",
      "1719/1719 [==============================] - 4s 2ms/step - loss: 0.2794 - accuracy: 0.8951 - val_loss: 0.3227 - val_accuracy: 0.8856\n",
      "Epoch 7/30\n",
      "1719/1719 [==============================] - 4s 3ms/step - loss: 0.2700 - accuracy: 0.8986 - val_loss: 0.3274 - val_accuracy: 0.8820\n",
      "Epoch 8/30\n",
      "1719/1719 [==============================] - 4s 3ms/step - loss: 0.2573 - accuracy: 0.9036 - val_loss: 0.3383 - val_accuracy: 0.8770\n",
      "Epoch 9/30\n",
      "1719/1719 [==============================] - 4s 2ms/step - loss: 0.2478 - accuracy: 0.9068 - val_loss: 0.3328 - val_accuracy: 0.8814\n",
      "Epoch 10/30\n",
      "1719/1719 [==============================] - 4s 3ms/step - loss: 0.2406 - accuracy: 0.9091 - val_loss: 0.3409 - val_accuracy: 0.8806\n",
      "Epoch 11/30\n",
      "1719/1719 [==============================] - 4s 3ms/step - loss: 0.2303 - accuracy: 0.9131 - val_loss: 0.3594 - val_accuracy: 0.8832\n",
      "Epoch 12/30\n",
      "1719/1719 [==============================] - 4s 2ms/step - loss: 0.2248 - accuracy: 0.9144 - val_loss: 0.3376 - val_accuracy: 0.8874\n",
      "Epoch 13/30\n",
      "1719/1719 [==============================] - 4s 3ms/step - loss: 0.2178 - accuracy: 0.9166 - val_loss: 0.3629 - val_accuracy: 0.8808\n",
      "Epoch 14/30\n",
      "1719/1719 [==============================] - 4s 2ms/step - loss: 0.2074 - accuracy: 0.9206 - val_loss: 0.3386 - val_accuracy: 0.8854\n",
      "Epoch 15/30\n",
      "1719/1719 [==============================] - 4s 3ms/step - loss: 0.2017 - accuracy: 0.9236 - val_loss: 0.3441 - val_accuracy: 0.8886\n",
      "Epoch 16/30\n",
      "1719/1719 [==============================] - 4s 3ms/step - loss: 0.1938 - accuracy: 0.9260 - val_loss: 0.3809 - val_accuracy: 0.8804\n",
      "Epoch 17/30\n",
      "1719/1719 [==============================] - 5s 3ms/step - loss: 0.1898 - accuracy: 0.9286 - val_loss: 0.3492 - val_accuracy: 0.8954\n",
      "Epoch 18/30\n",
      "1719/1719 [==============================] - 4s 2ms/step - loss: 0.1860 - accuracy: 0.9294 - val_loss: 0.3467 - val_accuracy: 0.8916\n",
      "Epoch 19/30\n",
      "1719/1719 [==============================] - 4s 2ms/step - loss: 0.1782 - accuracy: 0.9325 - val_loss: 0.3916 - val_accuracy: 0.8862\n",
      "Epoch 20/30\n",
      "1719/1719 [==============================] - 4s 2ms/step - loss: 0.1756 - accuracy: 0.9337 - val_loss: 0.3859 - val_accuracy: 0.8886\n",
      "Epoch 21/30\n",
      "1719/1719 [==============================] - 4s 2ms/step - loss: 0.1721 - accuracy: 0.9345 - val_loss: 0.3590 - val_accuracy: 0.8914\n",
      "Epoch 22/30\n",
      "1719/1719 [==============================] - 4s 2ms/step - loss: 0.1635 - accuracy: 0.9382 - val_loss: 0.3713 - val_accuracy: 0.8894\n",
      "Epoch 23/30\n",
      "1719/1719 [==============================] - 4s 3ms/step - loss: 0.1585 - accuracy: 0.9389 - val_loss: 0.3912 - val_accuracy: 0.8888\n",
      "Epoch 24/30\n",
      "1719/1719 [==============================] - 4s 3ms/step - loss: 0.1553 - accuracy: 0.9401 - val_loss: 0.3908 - val_accuracy: 0.8902\n",
      "Epoch 25/30\n",
      "1719/1719 [==============================] - 5s 3ms/step - loss: 0.1541 - accuracy: 0.9413 - val_loss: 0.3990 - val_accuracy: 0.8908\n",
      "Epoch 26/30\n",
      "1719/1719 [==============================] - 4s 3ms/step - loss: 0.1480 - accuracy: 0.9434 - val_loss: 0.4319 - val_accuracy: 0.8888\n",
      "Epoch 27/30\n",
      "1719/1719 [==============================] - 4s 3ms/step - loss: 0.1488 - accuracy: 0.9436 - val_loss: 0.4395 - val_accuracy: 0.8898\n",
      "Epoch 28/30\n",
      "1719/1719 [==============================] - 5s 3ms/step - loss: 0.1430 - accuracy: 0.9447 - val_loss: 0.4579 - val_accuracy: 0.8866\n",
      "Epoch 29/30\n",
      "1719/1719 [==============================] - 4s 2ms/step - loss: 0.1419 - accuracy: 0.9460 - val_loss: 0.4192 - val_accuracy: 0.8934\n",
      "Epoch 30/30\n",
      "1719/1719 [==============================] - 4s 2ms/step - loss: 0.1370 - accuracy: 0.9480 - val_loss: 0.4054 - val_accuracy: 0.8934\n"
     ]
    }
   ],
   "source": [
    "history = model.fit(X_train, y_train, epochs=30, validation_data=(X_valid, y_valid))"
   ]
  },
  {
   "cell_type": "code",
   "execution_count": 36,
   "id": "33a1a5fd-2f69-4700-91b5-6dd3259fee6d",
   "metadata": {},
   "outputs": [
    {
     "data": {
      "text/plain": [
       "dict_keys(['loss', 'accuracy', 'val_loss', 'val_accuracy'])"
      ]
     },
     "execution_count": 36,
     "metadata": {},
     "output_type": "execute_result"
    }
   ],
   "source": [
    "history.history.keys()"
   ]
  },
  {
   "cell_type": "code",
   "execution_count": 37,
   "id": "dd632993-dc48-452b-b3d2-a0df75850b87",
   "metadata": {},
   "outputs": [],
   "source": [
    "import pandas as pd"
   ]
  },
  {
   "cell_type": "code",
   "execution_count": 38,
   "id": "6022fa9c-f64b-453e-9876-b650c87300f6",
   "metadata": {},
   "outputs": [],
   "source": [
    "hist_data = pd.DataFrame(history.history)"
   ]
  },
  {
   "cell_type": "code",
   "execution_count": 44,
   "id": "0f104bfb-5eb5-4517-aea0-ba37785ee16a",
   "metadata": {},
   "outputs": [
    {
     "data": {
      "text/plain": [
       "<Axes: title={'center': 'Performance'}, xlabel='epoch'>"
      ]
     },
     "execution_count": 44,
     "metadata": {},
     "output_type": "execute_result"
    },
    {
     "data": {
      "image/png": "[encoded data removed]",
      "text/plain": [
       "<Figure size 1000x800 with 1 Axes>"
      ]
     },
     "metadata": {},
     "output_type": "display_data"
    }
   ],
   "source": [
    "hist_data.plot(figsize=(10,8), xlim=[0, 29], ylim = [0, 1], grid=True, xlabel='epoch', style=['r-*', 'b-d', 'g-*', 'y-o'], title='Performance')"
   ]
  },
  {
   "cell_type": "code",
   "execution_count": 45,
   "id": "a7cc22a7-65bf-428b-8bd2-5f1c270d9ff3",
   "metadata": {},
   "outputs": [
    {
     "name": "stdout",
     "output_type": "stream",
     "text": [
      "313/313 [==============================] - 1s 2ms/step - loss: 0.4144 - accuracy: 0.8911\n"
     ]
    },
    {
     "data": {
      "text/plain": [
       "[0.4143948256969452, 0.8910999894142151]"
      ]
     },
     "execution_count": 45,
     "metadata": {},
     "output_type": "execute_result"
    }
   ],
   "source": [
    "model.evaluate(X_test, y_test)"
   ]
  },
  {
   "cell_type": "code",
   "execution_count": 50,
   "id": "369be14c-1136-4625-97a4-f7454284d7e4",
   "metadata": {},
   "outputs": [
    {
     "name": "stdout",
     "output_type": "stream",
     "text": [
      "1/1 [==============================] - 0s 21ms/step\n"
     ]
    }
   ],
   "source": [
    "x_new = X_test[:3]\n",
    "y_prob = model.predict(x_new)"
   ]
  },
  {
   "cell_type": "code",
   "execution_count": 51,
   "id": "e691040c-ac25-49d4-8fb0-68d8ab978e1f",
   "metadata": {},
   "outputs": [
    {
     "data": {
      "text/plain": [
       "array([[0., 0., 0., 0., 0., 0., 0., 0., 0., 1.],\n",
       "       [0., 0., 1., 0., 0., 0., 0., 0., 0., 0.],\n",
       "       [0., 1., 0., 0., 0., 0., 0., 0., 0., 0.]], dtype=float32)"
      ]
     },
     "execution_count": 51,
     "metadata": {},
     "output_type": "execute_result"
    }
   ],
   "source": [
    "y_prob.round(2)"
   ]
  },
  {
   "cell_type": "code",
   "execution_count": 70,
   "id": "c16a5dcc-44b1-41d0-87cc-290d35b98a5a",
   "metadata": {},
   "outputs": [],
   "source": [
    "y_pred = y_prob.argmax(axis = -1)"
   ]
  },
  {
   "cell_type": "code",
   "execution_count": 71,
   "id": "9617d59e-7a50-4aad-8576-26172dbe1acf",
   "metadata": {},
   "outputs": [
    {
     "data": {
      "text/plain": [
       "array([9, 2, 1], dtype=int64)"
      ]
     },
     "execution_count": 71,
     "metadata": {},
     "output_type": "execute_result"
    }
   ],
   "source": [
    "y_pred"
   ]
  },
  {
   "cell_type": "markdown",
   "id": "b67c6810-49dc-4ebb-b27e-b8c0f32a7cae",
   "metadata": {},
   "source": [
    "### \n",
    "array([[0., 0., 0., 0., 0., 0., 0., 0., 0., 1.],\r\n",
    "       [0., 0., 1., 0., 0., 0., 0., 0., 0., 0.],\r\n",
    "       [0., 1., 0., 0., 0., 0., 0., 0., 0., 0.]], dtype=float32)"
   ]
  },
  {
   "cell_type": "code",
   "execution_count": 67,
   "id": "719fa484-dedb-4403-b04a-5ac4ba146c83",
   "metadata": {},
   "outputs": [
    {
     "data": {
      "text/plain": [
       "array([1, 2, 1, 0, 1, 0, 1, 0, 1, 0], dtype=int64)"
      ]
     },
     "execution_count": 67,
     "metadata": {},
     "output_type": "execute_result"
    }
   ],
   "source": [
    "y_pred_t = y_prob.argmax(axis=0) #  indexs of rows are considered to take max\n",
    "#like above matrix [0, 0, 0,] ; [0, 0, 1]; [0, 1, 0]\n",
    "# so the output is [1, 2, 1] \n",
    "y_pred_t"
   ]
  },
  {
   "cell_type": "markdown",
   "id": "1e03a8ce-7371-4f09-a969-9e0ed071b8bf",
   "metadata": {},
   "source": [
    "# np.argmax(axis=0) --> above matrix size is 3*10, ignores axis given axis=0 means row, so it checks column wise for 10 times.\n",
    "# np.argmax(axis=-1) --> it will check for max for 3 times"
   ]
  },
  {
   "cell_type": "code",
   "execution_count": 57,
   "id": "bd61b017-ad0c-4d3f-acfc-8a56b2c4dab3",
   "metadata": {},
   "outputs": [
    {
     "name": "stdout",
     "output_type": "stream",
     "text": [
      "Dimension of y_prob: 2\n",
      "Shape of y_prob : (3, 10)\n"
     ]
    }
   ],
   "source": [
    "print(f'Dimension of y_prob: {y_prob.ndim}')\n",
    "print(f'Shape of y_prob : {y_prob.shape}')"
   ]
  },
  {
   "cell_type": "code",
   "execution_count": 58,
   "id": "3897e551-e234-4d36-ae86-9131d6b41d7c",
   "metadata": {},
   "outputs": [
    {
     "name": "stdout",
     "output_type": "stream",
     "text": [
      "Dimension of y_pred: 1\n",
      "Shape of y_pred : (3,)\n"
     ]
    }
   ],
   "source": [
    "print(f'Dimension of y_pred: {y_pred.ndim}')\n",
    "print(f'Shape of y_pred : {y_pred.shape}')"
   ]
  },
  {
   "cell_type": "markdown",
   "id": "5a549d39-2d0b-4730-ad64-7e8c1aecadcc",
   "metadata": {},
   "source": [
    "### Notes about np.argmax(axis=-1)\n",
    "This means that the index that will be returned by argmax will be taken from the last axis.\r\n",
    "\r\n",
    "Your data has some shape (20,19,5,80), I changed the first dimension just to make it clearer. This means:\r\n",
    "\r\n",
    "Axis 0 = 20 elements\r\n",
    "Axis 1 = 19 elements\r\n",
    "Axis 2 = 5 elements\r\n",
    "Axis 3 = 80 elements\r\n",
    "Now, negative numbers work exactly like in python lists, in numpy arrays, etc. Negative numbers represent the inverse order:\r\n",
    "\r\n",
    "Axis -1 = 80 elements\r\n",
    "Axis -2 = 5 elements\r\n",
    "Axis -3 = 19 elements\r\n",
    "Axis -4 = 20 elements\r\n",
    "When you pass the axis parameter to the argmax function, the indices returned will be based on this axis. Your results will lose this specific axes, but keep the others.\r\n",
    "\r\n",
    "See what shape argmax will return for each index:\r\n",
    "\r\n",
    "K.argmax(a,axis= 0 or -4) returns (19,5,80) with values from 0 to 19\r\n",
    "K.argmax(a,axis= 1 or -3) returns (20,5,80) with values from 0 to 18\r\n",
    "K.argmax(a,axis= 2 or -2) returns (20,19,80) with values from 0 to 4\r\n",
    "K.argmax(a,axis= 3 or -1) returns (20,19,5) with values from 0 to 79"
   ]
  },
  {
   "cell_type": "code",
   "execution_count": 72,
   "id": "f4e37e7c-9ddd-45ed-b9a6-ad2495412f98",
   "metadata": {},
   "outputs": [
    {
     "data": {
      "text/plain": [
       "array(['Ankle boot', 'Pullover', 'Trouser'], dtype='<U11')"
      ]
     },
     "execution_count": 72,
     "metadata": {},
     "output_type": "execute_result"
    }
   ],
   "source": [
    "import numpy as np\n",
    "class_names = np.array(class_names)\n",
    "class_names[y_pred]"
   ]
  },
  {
   "cell_type": "code",
   "execution_count": 74,
   "id": "3a31823e-0448-4440-8886-1863ee30bbf0",
   "metadata": {},
   "outputs": [
    {
     "data": {
      "text/plain": [
       "array(['Ankle boot', 'Pullover', 'Trouser'], dtype='<U11')"
      ]
     },
     "execution_count": 74,
     "metadata": {},
     "output_type": "execute_result"
    }
   ],
   "source": [
    "class_names[y_test[:3]]"
   ]
  },
  {
   "cell_type": "markdown",
   "id": "3bdbaed6-9e8d-433d-8e64-6f30eed1b3a4",
   "metadata": {},
   "source": [
    "## Keras regression model for hosue price prediction for california house"
   ]
  },
  {
   "cell_type": "code",
   "execution_count": 79,
   "id": "07a9dd36-6265-4efb-9fe3-4ef5576d8834",
   "metadata": {},
   "outputs": [
    {
     "name": "stdout",
     "output_type": "stream",
     "text": [
      "Epoch 1/20\n",
      "516/516 [==============================] - 1s 1ms/step - loss: 0.7201 - root_mean_squared_error: 0.8486 - val_loss: 0.6349 - val_root_mean_squared_error: 0.7968\n",
      "Epoch 2/20\n",
      "516/516 [==============================] - 0s 941us/step - loss: 0.3794 - root_mean_squared_error: 0.6160 - val_loss: 0.5914 - val_root_mean_squared_error: 0.7690\n",
      "Epoch 3/20\n",
      "516/516 [==============================] - 0s 966us/step - loss: 0.3564 - root_mean_squared_error: 0.5970 - val_loss: 0.5114 - val_root_mean_squared_error: 0.7151\n",
      "Epoch 4/20\n",
      "516/516 [==============================] - 0s 919us/step - loss: 0.3324 - root_mean_squared_error: 0.5765 - val_loss: 0.5413 - val_root_mean_squared_error: 0.7358\n",
      "Epoch 5/20\n",
      "516/516 [==============================] - 0s 915us/step - loss: 0.3187 - root_mean_squared_error: 0.5645 - val_loss: 0.6082 - val_root_mean_squared_error: 0.7799\n",
      "Epoch 6/20\n",
      "516/516 [==============================] - 0s 922us/step - loss: 0.3096 - root_mean_squared_error: 0.5564 - val_loss: 0.5132 - val_root_mean_squared_error: 0.7164\n",
      "Epoch 7/20\n",
      "516/516 [==============================] - 0s 910us/step - loss: 0.3040 - root_mean_squared_error: 0.5514 - val_loss: 0.5341 - val_root_mean_squared_error: 0.7309\n",
      "Epoch 8/20\n",
      "516/516 [==============================] - 1s 1ms/step - loss: 0.3007 - root_mean_squared_error: 0.5483 - val_loss: 0.5032 - val_root_mean_squared_error: 0.7094\n",
      "Epoch 9/20\n",
      "516/516 [==============================] - 1s 974us/step - loss: 0.2936 - root_mean_squared_error: 0.5418 - val_loss: 0.5945 - val_root_mean_squared_error: 0.7710\n",
      "Epoch 10/20\n",
      "516/516 [==============================] - 0s 950us/step - loss: 0.2959 - root_mean_squared_error: 0.5439 - val_loss: 0.6075 - val_root_mean_squared_error: 0.7794\n",
      "Epoch 11/20\n",
      "516/516 [==============================] - 0s 940us/step - loss: 0.2922 - root_mean_squared_error: 0.5406 - val_loss: 0.6914 - val_root_mean_squared_error: 0.8315\n",
      "Epoch 12/20\n",
      "516/516 [==============================] - 0s 961us/step - loss: 0.2851 - root_mean_squared_error: 0.5339 - val_loss: 0.5312 - val_root_mean_squared_error: 0.7288\n",
      "Epoch 13/20\n",
      "516/516 [==============================] - 0s 944us/step - loss: 0.2815 - root_mean_squared_error: 0.5305 - val_loss: 0.5472 - val_root_mean_squared_error: 0.7397\n",
      "Epoch 14/20\n",
      "516/516 [==============================] - 1s 1ms/step - loss: 0.2828 - root_mean_squared_error: 0.5318 - val_loss: 0.4181 - val_root_mean_squared_error: 0.6466\n",
      "Epoch 15/20\n",
      "516/516 [==============================] - 0s 943us/step - loss: 0.2757 - root_mean_squared_error: 0.5250 - val_loss: 0.5394 - val_root_mean_squared_error: 0.7345\n",
      "Epoch 16/20\n",
      "516/516 [==============================] - 0s 947us/step - loss: 0.2734 - root_mean_squared_error: 0.5228 - val_loss: 0.7591 - val_root_mean_squared_error: 0.8713\n",
      "Epoch 17/20\n",
      "516/516 [==============================] - 0s 953us/step - loss: 0.2763 - root_mean_squared_error: 0.5256 - val_loss: 0.8803 - val_root_mean_squared_error: 0.9382\n",
      "Epoch 18/20\n",
      "516/516 [==============================] - 0s 948us/step - loss: 0.2711 - root_mean_squared_error: 0.5206 - val_loss: 0.4649 - val_root_mean_squared_error: 0.6818\n",
      "Epoch 19/20\n",
      "516/516 [==============================] - 1s 974us/step - loss: 0.2665 - root_mean_squared_error: 0.5162 - val_loss: 0.5592 - val_root_mean_squared_error: 0.7478\n",
      "Epoch 20/20\n",
      "516/516 [==============================] - 0s 966us/step - loss: 0.2656 - root_mean_squared_error: 0.5154 - val_loss: 0.4327 - val_root_mean_squared_error: 0.6578\n",
      "129/129 [==============================] - 0s 776us/step - loss: 0.3010 - root_mean_squared_error: 0.5486\n"
     ]
    }
   ],
   "source": [
    "from sklearn.datasets import fetch_california_housing\n",
    "from sklearn.model_selection import train_test_split\n",
    "\n",
    "housing = fetch_california_housing()\n",
    "X_train_full, X_test, y_train_full, y_test = train_test_split(housing.data, housing.target, random_state=42, test_size=0.2)\n",
    "X_train, X_valid, y_train, y_valid = train_test_split(X_train_full, y_train_full, random_state=42, test_size=10)\n",
    "\n",
    "norm_layer = tf.keras.layers.Normalization(input_shape = X_train.shape[1:])\n",
    "model_1 = tf.keras.Sequential([\n",
    "    norm_layer,\n",
    "    tf.keras.layers.Dense(50, activation='relu'),\n",
    "    tf.keras.layers.Dense(50, activation='relu'),\n",
    "    tf.keras.layers.Dense(50, activation='relu'),\n",
    "    tf.keras.layers.Dense(1)\n",
    "])\n",
    "optimizer = tf.keras.optimizers.Adam(learning_rate=0.001)\n",
    "model_1.compile(loss='mse', optimizer=optimizer, metrics=['RootMeanSquaredError'])\n",
    "norm_layer.adapt(X_train)\n",
    "\n",
    "history_1 = model_1.fit(X_train, y_train, epochs=20, validation_data=(X_valid, y_valid))\n",
    "\n",
    "mse_test, rmse_test  = model_1.evaluate(X_test, y_test)\n",
    "  "
   ]
  },
  {
   "cell_type": "code",
   "execution_count": 81,
   "id": "fbe56b56-214c-40fa-97e3-e74afde24a12",
   "metadata": {},
   "outputs": [
    {
     "name": "stdout",
     "output_type": "stream",
     "text": [
      "1/1 [==============================] - 0s 51ms/step\n"
     ]
    },
    {
     "data": {
      "text/plain": [
       "array([[0.6007872],\n",
       "       [1.1968365],\n",
       "       [4.023564 ]], dtype=float32)"
      ]
     },
     "execution_count": 81,
     "metadata": {},
     "output_type": "execute_result"
    }
   ],
   "source": [
    "y_pred = model_1.predict(X_test[:3])\n",
    "y_pred"
   ]
  },
  {
   "cell_type": "code",
   "execution_count": 83,
   "id": "add1d784-a4b0-4ab1-8058-b765313379e7",
   "metadata": {},
   "outputs": [
    {
     "data": {
      "text/plain": [
       "array([0.477  , 0.458  , 5.00001])"
      ]
     },
     "execution_count": 83,
     "metadata": {},
     "output_type": "execute_result"
    }
   ],
   "source": [
    "y_test[:3]"
   ]
  },
  {
   "cell_type": "markdown",
   "id": "6c11612c-b0f7-4a02-8980-fa6241ca49f9",
   "metadata": {},
   "source": [
    " ## why 17 params in Normalization layer ?\n",
    "The Normalization layer most likely stores statistics like mean and variance for each of the 8 input features.\n",
    "Typically, for a dataset with n features, the normalization layer computes 2 parameters per feature:\n",
    "Mean for each feature (8 parameters)\n",
    "Variance for each feature (8 parameters)\n",
    "In addition, there might be a small additional parameter for scaling or offset, bringing the total to 17 non-trainable parameters in this case."
   ]
  },
  {
   "cell_type": "code",
   "execution_count": 84,
   "id": "39da1b8f-cdb4-4a77-9350-51ce1cc80f93",
   "metadata": {},
   "outputs": [
    {
     "name": "stdout",
     "output_type": "stream",
     "text": [
      "Model: \"sequential_4\"\n",
      "_________________________________________________________________\n",
      " Layer (type)                Output Shape              Param #   \n",
      "=================================================================\n",
      " normalization_3 (Normaliza  (None, 8)                 17        \n",
      " tion)                                                           \n",
      "                                                                 \n",
      " dense_15 (Dense)            (None, 50)                450       \n",
      "                                                                 \n",
      " dense_16 (Dense)            (None, 50)                2550      \n",
      "                                                                 \n",
      " dense_17 (Dense)            (None, 50)                2550      \n",
      "                                                                 \n",
      " dense_18 (Dense)            (None, 1)                 51        \n",
      "                                                                 \n",
      "=================================================================\n",
      "Total params: 5618 (21.95 KB)\n",
      "Trainable params: 5601 (21.88 KB)\n",
      "Non-trainable params: 17 (72.00 Byte)\n",
      "_________________________________________________________________\n"
     ]
    }
   ],
   "source": [
    "model_1.summary()"
   ]
  },
  {
   "cell_type": "code",
   "execution_count": 85,
   "id": "5dec1879-b756-42bb-abdb-aee48b12494b",
   "metadata": {},
   "outputs": [
    {
     "data": {
      "text/plain": [
       "(16502, 8)"
      ]
     },
     "execution_count": 85,
     "metadata": {},
     "output_type": "execute_result"
    }
   ],
   "source": [
    "X_train.shape"
   ]
  },
  {
   "cell_type": "markdown",
   "id": "dad9df78-0bb5-477f-84b1-82df9cad1773",
   "metadata": {},
   "source": [
    "### Building Complex Models Using the Functional API\r\n",
    "One example of a nonsequential neural network is a Wide & Deep neural network. This neural network architecture was introduced in a 2016 paper by Heng-Tze Cheng et al.⁠15 It connects all or part of the inputs directly to the output laye3. This architecture makes it possible for the neural network to learn both deep patterns (using the deep path) and simple rules (through the short path)\n"
   ]
  },
  {
   "cell_type": "code",
   "execution_count": 90,
   "id": "c866ad3b-8d24-4cd9-a1aa-07e0a3fa3f54",
   "metadata": {},
   "outputs": [],
   "source": [
    "normalization_layer = tf.keras.layers.Normalization()\n",
    "hidden_layer1 = tf.keras.layers.Dense(50, activation='relu')\n",
    "hidden_layer2 = tf.keras.layers.Dense(30, activation='relu')\n",
    "\n",
    "concat_layer = tf.keras.layers.Concatenate()\n",
    "\n",
    "output_layer = tf.keras.layers.Dense(1)\n",
    "\n",
    "input_ = tf.keras.layers.Input(shape=X_train.shape[1:])\n",
    "normalized = normalization_layer(input_)\n",
    "hidden1 = hidden_layer1(normalized)\n",
    "hidden2 = hidden_layer2(hidden1)\n",
    "\n",
    "concat = concat_layer([hidden2, normalized])\n",
    "\n",
    "output_ = output_layer(concat)\n",
    "\n",
    "model_3 = tf.keras.Model(inputs=[input_], outputs=[output_])"
   ]
  },
  {
   "cell_type": "code",
   "execution_count": 91,
   "id": "f8841911-3589-479f-a529-b5d351cecce1",
   "metadata": {},
   "outputs": [
    {
     "name": "stdout",
     "output_type": "stream",
     "text": [
      "Model: \"model\"\n",
      "__________________________________________________________________________________________________\n",
      " Layer (type)                Output Shape                 Param #   Connected to                  \n",
      "==================================================================================================\n",
      " input_5 (InputLayer)        [(None, 8)]                  0         []                            \n",
      "                                                                                                  \n",
      " normalization_8 (Normaliza  (None, 8)                    17        ['input_5[0][0]']             \n",
      " tion)                                                                                            \n",
      "                                                                                                  \n",
      " dense_31 (Dense)            (None, 50)                   450       ['normalization_8[0][0]']     \n",
      "                                                                                                  \n",
      " dense_32 (Dense)            (None, 30)                   1530      ['dense_31[0][0]']            \n",
      "                                                                                                  \n",
      " concatenate_4 (Concatenate  (None, 38)                   0         ['dense_32[0][0]',            \n",
      " )                                                                   'normalization_8[0][0]']     \n",
      "                                                                                                  \n",
      " dense_33 (Dense)            (None, 1)                    39        ['concatenate_4[0][0]']       \n",
      "                                                                                                  \n",
      "==================================================================================================\n",
      "Total params: 2036 (7.96 KB)\n",
      "Trainable params: 2019 (7.89 KB)\n",
      "Non-trainable params: 17 (72.00 Byte)\n",
      "__________________________________________________________________________________________________\n"
     ]
    }
   ],
   "source": [
    "model_3.summary()"
   ]
  }
 ],
 "metadata": {
  "kernelspec": {
   "display_name": "Python 3 (ipykernel)",
   "language": "python",
   "name": "python3"
  },
  "language_info": {
   "codemirror_mode": {
    "name": "ipython",
    "version": 3
   },
   "file_extension": ".py",
   "mimetype": "text/x-python",
   "name": "python",
   "nbconvert_exporter": "python",
   "pygments_lexer": "ipython3",
   "version": "3.11.7"
  }
 },
 "nbformat": 4,
 "nbformat_minor": 5
}
